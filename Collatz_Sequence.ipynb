{
  "nbformat": 4,
  "nbformat_minor": 0,
  "metadata": {
    "colab": {
      "name": "Collatz_Sequence.ipynb",
      "provenance": [],
      "authorship_tag": "ABX9TyNZVpkMXyMnXqGjOFqjYh8R",
      "include_colab_link": true
    },
    "kernelspec": {
      "name": "python3",
      "display_name": "Python 3"
    },
    "language_info": {
      "name": "python"
    }
  },
  "cells": [
    {
      "cell_type": "markdown",
      "metadata": {
        "id": "view-in-github",
        "colab_type": "text"
      },
      "source": [
        "<a href=\"https://colab.research.google.com/github/tarekhassan29/Collatz-Sequence/blob/main/Collatz_Sequence.ipynb\" target=\"_parent\"><img src=\"https://colab.research.google.com/assets/colab-badge.svg\" alt=\"Open In Colab\"/></a>"
      ]
    },
    {
      "cell_type": "markdown",
      "source": [
        "**The Collatz Sequence**\n",
        "\n",
        "Write a function named collatz() that has one parameter named number. If\n",
        "number is even, then collatz() should print number // 2 and return this value.\n",
        "If number is odd, then collatz() should print and return 3 * number + 1.\n",
        "Then write a program that lets the user type in an integer and that\n",
        "keeps calling collatz() on that number until the function returns the value 1.\n",
        "(Amazingly enough, this sequence actually works for any integer—sooner or\n",
        "later, using this sequence, you’ll arrive at 1! Even mathematicians aren’t sure\n",
        "why. Your program is exploring what’s called the Collatz sequence, sometimes\n",
        "called “the simplest impossible math problem.”)\n",
        "Remember to convert the return value from input() to an integer with\n",
        "the int() function; otherwise, it will be a string value.\n",
        "Hint: An integer number is even if number % 2 == 0, and it’s odd if\n",
        "number % 2 == 1.\n",
        "The output of this program could look something like this:\n",
        "\n",
        "**Enter number:**      3\n",
        "\n",
        "**Output**\n",
        "\n",
        "10\n",
        "\n",
        "5\n",
        "\n",
        "16\n",
        "\n",
        "8\n",
        "\n",
        "4\n",
        "\n",
        "2\n",
        "\n",
        "1\n",
        "\n",
        "**Input Validation**\n",
        "\n",
        "Add try and except statements to the previous project to detect whether the\n",
        "user types in a noninteger string. Normally, the int() function will raise a ValueError error if it is passed a noninteger string, as in int('puppy'). In the\n",
        "except clause, print a message to the user saying they must enter an integer."
      ],
      "metadata": {
        "id": "93E0bNlAaQ6M"
      }
    },
    {
      "cell_type": "code",
      "source": [
        "def collatz(number):\n",
        "    count = True\n",
        "    result = number\n",
        "    while count:\n",
        "        if result % 2 == 0:\n",
        "            result = result // 2\n",
        "            print(result)\n",
        "        else:\n",
        "            result = 3 * result + 1\n",
        "            print(result)\n",
        "        if result == 1:\n",
        "            count = False\n",
        "user_number = int(input(\"enter a number :  \"))\n",
        "collatz(user_number)"
      ],
      "metadata": {
        "colab": {
          "base_uri": "https://localhost:8080/"
        },
        "id": "14RDxJ1_a1BU",
        "outputId": "5b122651-43e1-4747-d09d-f8c5e12d0620"
      },
      "execution_count": 1,
      "outputs": [
        {
          "output_type": "stream",
          "name": "stdout",
          "text": [
            "enter a number :  3\n",
            "10\n",
            "5\n",
            "16\n",
            "8\n",
            "4\n",
            "2\n",
            "1\n"
          ]
        }
      ]
    }
  ]
}